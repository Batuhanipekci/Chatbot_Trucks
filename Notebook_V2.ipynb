{
 "cells": [
  {
   "cell_type": "code",
   "execution_count": 1,
   "metadata": {},
   "outputs": [],
   "source": [
    "#import pandas as pd\n",
    "import textdistance\n",
    "import re\n",
    "import string\n",
    "import os"
   ]
  },
  {
   "cell_type": "code",
   "execution_count": 182,
   "metadata": {},
   "outputs": [
    {
     "ename": "TypeError",
     "evalue": "can only concatenate list (not \"str\") to list",
     "output_type": "error",
     "traceback": [
      "\u001b[0;31m---------------------------------------------------------------------------\u001b[0m",
      "\u001b[0;31mTypeError\u001b[0m                                 Traceback (most recent call last)",
      "\u001b[0;32m<ipython-input-182-a3c4a374b18f>\u001b[0m in \u001b[0;36m<module>\u001b[0;34m\u001b[0m\n\u001b[1;32m      2\u001b[0m \u001b[0mresult\u001b[0m \u001b[0;34m=\u001b[0m \u001b[0;34m[\u001b[0m\u001b[0;34m]\u001b[0m\u001b[0;34m\u001b[0m\u001b[0;34m\u001b[0m\u001b[0m\n\u001b[1;32m      3\u001b[0m \u001b[0;32mfor\u001b[0m \u001b[0mtl\u001b[0m \u001b[0;32min\u001b[0m \u001b[0mtext_list\u001b[0m\u001b[0;34m:\u001b[0m\u001b[0;34m\u001b[0m\u001b[0;34m\u001b[0m\u001b[0m\n\u001b[0;32m----> 4\u001b[0;31m     \u001b[0mresult\u001b[0m \u001b[0;34m=\u001b[0m \u001b[0mresult\u001b[0m \u001b[0;34m+\u001b[0m \u001b[0mtl\u001b[0m\u001b[0;34m.\u001b[0m\u001b[0mreplace\u001b[0m\u001b[0;34m(\u001b[0m\u001b[0;34m' and '\u001b[0m\u001b[0;34m,\u001b[0m\u001b[0;34m''\u001b[0m\u001b[0;34m)\u001b[0m\u001b[0;34m.\u001b[0m\u001b[0mstrip\u001b[0m\u001b[0;34m(\u001b[0m\u001b[0;34m)\u001b[0m\u001b[0;34m\u001b[0m\u001b[0;34m\u001b[0m\u001b[0m\n\u001b[0m",
      "\u001b[0;31mTypeError\u001b[0m: can only concatenate list (not \"str\") to list"
     ]
    }
   ],
   "source": [
    "text_list = text.split(',')\n",
    "result = []\n",
    "for tl in text_list:\n",
    "    result = result + tl.replace(' and ','').strip()"
   ]
  },
  {
   "cell_type": "code",
   "execution_count": 188,
   "metadata": {},
   "outputs": [],
   "source": [
    "def input_char_list(text):\n",
    "    text_list = text.split(',')\n",
    "    result = []\n",
    "    for tl in text_list:\n",
    "        result = result + [tl.replace(' and ','').strip()]\n",
    "    return(result)\n",
    "\n"
   ]
  },
  {
   "cell_type": "code",
   "execution_count": 189,
   "metadata": {},
   "outputs": [],
   "source": [
    "text = 'barataben, DAF Trucks, and Hyundai'"
   ]
  },
  {
   "cell_type": "code",
   "execution_count": 190,
   "metadata": {},
   "outputs": [
    {
     "data": {
      "text/plain": [
       "['barataben', 'DAF Trucks', 'Hyundai']"
      ]
     },
     "execution_count": 190,
     "metadata": {},
     "output_type": "execute_result"
    }
   ],
   "source": [
    "input_char_list(text)"
   ]
  },
  {
   "cell_type": "code",
   "execution_count": 177,
   "metadata": {},
   "outputs": [
    {
     "data": {
      "text/plain": [
       "['barataben', ' DAF Trucks', ' and Hyundai']"
      ]
     },
     "execution_count": 177,
     "metadata": {},
     "output_type": "execute_result"
    }
   ],
   "source": [
    "text_list = text.split(',')\n",
    "\n",
    "text_list"
   ]
  },
  {
   "cell_type": "code",
   "execution_count": 184,
   "metadata": {},
   "outputs": [
    {
     "data": {
      "text/plain": [
       "' DAF Trucks'"
      ]
     },
     "execution_count": 184,
     "metadata": {},
     "output_type": "execute_result"
    }
   ],
   "source": [
    "text_list[1].replace(' and ','')"
   ]
  },
  {
   "cell_type": "code",
   "execution_count": 176,
   "metadata": {},
   "outputs": [
    {
     "ename": "AttributeError",
     "evalue": "'list' object has no attribute 'strip'",
     "output_type": "error",
     "traceback": [
      "\u001b[0;31m---------------------------------------------------------------------------\u001b[0m",
      "\u001b[0;31mAttributeError\u001b[0m                            Traceback (most recent call last)",
      "\u001b[0;32m<ipython-input-176-4ae6e6f2a828>\u001b[0m in \u001b[0;36m<module>\u001b[0;34m\u001b[0m\n\u001b[0;32m----> 1\u001b[0;31m \u001b[0minput_char_list\u001b[0m\u001b[0;34m(\u001b[0m\u001b[0mtext\u001b[0m\u001b[0;34m)\u001b[0m\u001b[0;34m\u001b[0m\u001b[0;34m\u001b[0m\u001b[0m\n\u001b[0m",
      "\u001b[0;32m<ipython-input-172-222edb492290>\u001b[0m in \u001b[0;36minput_char_list\u001b[0;34m(text)\u001b[0m\n\u001b[1;32m     23\u001b[0m     \u001b[0mresult\u001b[0m \u001b[0;34m=\u001b[0m \u001b[0;34m[\u001b[0m\u001b[0;34m]\u001b[0m\u001b[0;34m\u001b[0m\u001b[0;34m\u001b[0m\u001b[0m\n\u001b[1;32m     24\u001b[0m     \u001b[0;32mfor\u001b[0m \u001b[0mtl\u001b[0m \u001b[0;32min\u001b[0m \u001b[0mtext_list\u001b[0m\u001b[0;34m:\u001b[0m\u001b[0;34m\u001b[0m\u001b[0;34m\u001b[0m\u001b[0m\n\u001b[0;32m---> 25\u001b[0;31m         \u001b[0mresult\u001b[0m \u001b[0;34m=\u001b[0m \u001b[0mresult\u001b[0m \u001b[0;34m+\u001b[0m \u001b[0mtl\u001b[0m\u001b[0;34m.\u001b[0m\u001b[0msplit\u001b[0m\u001b[0;34m(\u001b[0m\u001b[0;34m' and '\u001b[0m\u001b[0;34m)\u001b[0m\u001b[0;34m.\u001b[0m\u001b[0mstrip\u001b[0m\u001b[0;34m(\u001b[0m\u001b[0;34m)\u001b[0m\u001b[0;34m\u001b[0m\u001b[0;34m\u001b[0m\u001b[0m\n\u001b[0m\u001b[1;32m     26\u001b[0m     \u001b[0;32mreturn\u001b[0m\u001b[0;34m(\u001b[0m\u001b[0mresult\u001b[0m\u001b[0;34m)\u001b[0m\u001b[0;34m\u001b[0m\u001b[0;34m\u001b[0m\u001b[0m\n\u001b[1;32m     27\u001b[0m \u001b[0;34m\u001b[0m\u001b[0m\n",
      "\u001b[0;31mAttributeError\u001b[0m: 'list' object has no attribute 'strip'"
     ]
    }
   ],
   "source": [
    "input_char_list(text)"
   ]
  },
  {
   "cell_type": "code",
   "execution_count": null,
   "metadata": {},
   "outputs": [],
   "source": []
  },
  {
   "cell_type": "code",
   "execution_count": 169,
   "metadata": {},
   "outputs": [],
   "source": [
    "text_list = ('barataben, DAF Trucks, and Hyundai').split(',')\n",
    "\n"
   ]
  },
  {
   "cell_type": "code",
   "execution_count": 170,
   "metadata": {},
   "outputs": [
    {
     "data": {
      "text/plain": [
       "['barataben', ' DAF Trucks', ' and Hyundai']"
      ]
     },
     "execution_count": 170,
     "metadata": {},
     "output_type": "execute_result"
    }
   ],
   "source": [
    "text_list"
   ]
  },
  {
   "cell_type": "markdown",
   "metadata": {},
   "source": [
    "# Helper Functions"
   ]
  },
  {
   "cell_type": "code",
   "execution_count": 172,
   "metadata": {},
   "outputs": [],
   "source": [
    "def input_integer_select(integer_limit = 100):\n",
    "    flag = True\n",
    "    user_input = input()\n",
    "\n",
    "    while flag:\n",
    "        if user_input.isdigit():\n",
    "            if int(user_input) > integer_limit:\n",
    "                warning = ('Sorry, I can\\'t process more than {0} ' + \n",
    "                           'right now. Please enter again:').format(integer_limit)\n",
    "                print(warning)\n",
    "                user_input = input()\n",
    "            else:\n",
    "                flag=False\n",
    "        else:\n",
    "            warning = 'I don\\'t understand. Please enter an integer:'\n",
    "            print(warning)\n",
    "            user_input = input()\n",
    "            \n",
    "    return(int(user_input))\n",
    "\n",
    "def input_char_list(text):\n",
    "    text_list = text.split(',')\n",
    "    result = []\n",
    "    for tl in text_list:\n",
    "        result = result + tl.replace(' and ','').strip()\n",
    "    return(result)\n",
    "\n",
    "def input_float_select(float_limit = 100.0):\n",
    "    flag = True\n",
    "    user_input = input()\n",
    "\n",
    "    while flag:\n",
    "        if user_input.replace('.','').isdigit():\n",
    "            if float(user_input) > float_limit:\n",
    "                warning = ('Sorry, I can\\'t process more than {0}' + \n",
    "                           'right now. Please enter again:').format(float_limit)\n",
    "                print(warning)\n",
    "                user_input = input()\n",
    "            else:\n",
    "                flag=False\n",
    "        else:\n",
    "            warning = 'I don\\'t understand. Please enter a floating number:'\n",
    "            print(warning)\n",
    "            user_input = input()\n",
    "            \n",
    "    return(round(float(user_input),2))\n",
    "\n",
    "def did_you_mean_that(what_user_does,what_we_want):\n",
    "    cb_prints = list()\n",
    "    user_inputs_rec = list()\n",
    "    \n",
    "    \n",
    "    cb_prints.append(os.linesep +'Did you mean {0} by saying {1} ?'.format(what_we_want,what_user_does))\n",
    "    print(cb_prints[len(cb_prints)-1])\n",
    "    user_input = input()\n",
    "    user_inputs_rec.append(user_input)\n",
    "    \n",
    "    if all(letter in user_input.lower() for letter in ['y','e','s']):\n",
    "        out = what_we_want\n",
    "        suggestion = None\n",
    "    \n",
    "    else:\n",
    "        cb_prints.append(os.linesep + 'Are you sure you meant that {0} exists? '.format(what_user_does))\n",
    "        print(cb_prints[len(cb_prints)-1])\n",
    "        user_input_sub = input()\n",
    "        user_inputs_rec.append(user_input_sub)\n",
    "        \n",
    "        if all(letter in user_input_sub.lower() for letter in ['y','e','s']):\n",
    "            cb_prints.append(os.linesep + 'If so, it seems like the entry doesn\\'t exist in our database '+\n",
    "                  os.linesep + 'We will save it now.')\n",
    "            print(cb_prints[len(cb_prints)-1])\n",
    "            out = what_user_does\n",
    "            suggestion = None\n",
    "        else:\n",
    "            cb_prints.append(os.linesep +\n",
    "                 'Could you then write what you meant?')\n",
    "            print(cb_prints[len(cb_prints)-1])\n",
    "            \n",
    "            user_input_suggestion = input()\n",
    "            out = user_input_suggestion\n",
    "            user_inputs_rec.append(user_input_suggestion)\n",
    "            suggestion = True\n",
    "            \n",
    "    return([out,suggestion,cb_prints,user_inputs_rec])\n",
    "\n",
    "\n",
    "\n",
    "\n",
    "\n",
    "def similarity_score(s1,s2):\n",
    "    '''\n",
    "    This function returns a measure of a text similarity \n",
    "    based on Levenshtein distance.\n",
    "    \n",
    "    It is scaled by the maximum length of the compared strings. \n",
    "    The value returned is between 0 and 1, \n",
    "    therefore text similarities can be compared with each other.\n",
    "    \n",
    "    1 minus the scaled distance gives the similarity, just to make things intuitive.\n",
    "    '''\n",
    "    return(1-textdistance.levenshtein.distance(s1,s2)/max(len(s1),len(s2)))\n",
    "\n",
    "def clean_basic(text):\n",
    "    '''\n",
    "    This function makes user input case-insensitive.\n",
    "    Additionally, it tokenizes the text \n",
    "    so that future operations can be applied easier.\n",
    "    '''\n",
    "\n",
    "    text = str(text)\n",
    "    punct = set(string.punctuation)\n",
    "    clean_text = ''.join(char for char in text if char not in punct)\n",
    "    \n",
    "    tokens = []\n",
    "    for word in text.split():\n",
    "            word_low = word.lower()\n",
    "            tokens.append(word_low)\n",
    "\n",
    "    return(''.join(tokens))   \n",
    "    \n",
    "\n",
    "def truck_recommender(user_input):\n",
    "    '''\n",
    "    Returns the most similar \n",
    "    truck manufacturer if exists\n",
    "    '''\n",
    "    user_input_rec = user_input\n",
    "    user_input_clean = clean_basic(user_input)\n",
    "    \n",
    "    # Read the list\n",
    "    manu_list = [line.rstrip('\\n') for line in open('truck_manufacturer.txt','r')][1:]\n",
    "    \n",
    "    # Ensure that manufacturer's list is consisted of unique names\n",
    "    manu_list = list(set(manu_list))\n",
    "    \n",
    "    manu_list_clean = [clean_basic(element) for element in manu_list]\n",
    "\n",
    "    if user_input_clean in manu_list_clean:\n",
    "    # If the cleaned user response happens to be in the list, return it.\n",
    "        out = manu_list[manu_list_clean.index(user_input_clean)]\n",
    "        status = 'exact_match'\n",
    "        \n",
    "    \n",
    "    else:\n",
    "    # If not, search for the most similar manufacturers\n",
    "    \n",
    "        similarities = [similarity_score(user_input_clean,x) for x in manu_list_clean]\n",
    "        \n",
    "        sim_idx = []\n",
    "        for index, x in enumerate(similarities):\n",
    "            if x == max(similarities):\n",
    "                sim_idx.append(index)\n",
    "        \n",
    "        if len(sim_idx) == 1:\n",
    "        # Uniquely most similar manufacturer\n",
    "            out = manu_list[sim_idx[0]]\n",
    "            status = 'recommendation'\n",
    "        else:\n",
    "        # Many most similar manufacturer\n",
    "            out = user_input\n",
    "            status = 'not_found'\n",
    "    \n",
    "    return([out, status, user_input_rec])\n",
    "        \n"
   ]
  },
  {
   "cell_type": "markdown",
   "metadata": {},
   "source": [
    "# 1. Greetings Bot"
   ]
  },
  {
   "cell_type": "code",
   "execution_count": 17,
   "metadata": {},
   "outputs": [],
   "source": [
    "# Capture conversation rather than individual lists\n",
    "\n",
    "import random\n",
    "import re\n",
    "import os\n",
    "\n",
    "\n",
    "def GreetingsBot():\n",
    "    \n",
    "    user_inputs = list()\n",
    "    cb_prints = list()\n",
    "\n",
    "    greeting_styles = ['Hi there,','Hallo,','Welcome onboard,','Hello']\n",
    "    cb_prints.append(os.linesep + random.choice(greeting_styles) + ' what is your name?' )  \n",
    "    print(cb_prints[0])\n",
    "\n",
    "    user_inputs.append(input())\n",
    "    name = ' '.join([n for n in user_inputs[0].split(' ') if n != ''])\n",
    "    name = re.sub(r'[^a-zA-Z\\s]', '',name)\n",
    "\n",
    "    cb_prints.append(os.linesep + 'Hi '+ name +', what is the name of your company?')\n",
    "    print(cb_prints[1])\n",
    "\n",
    "    user_inputs.append(input())\n",
    "    company = user_inputs[1]\n",
    "    cb_prints.append(os.linesep + 'Do you own trucks at ' +company+' ?')\n",
    "    print(cb_prints[2])\n",
    "    user_inputs.append(input())\n",
    "    truck_yn = user_inputs[2].lower()\n",
    "\n",
    "    if all(letter in truck_yn for letter in ['y','e','s']):\n",
    "        truck_dummy = 'yes'\n",
    "        #cb_prints.append(os.linesep + 'Then, how many trucks do you have?')\n",
    "        #print(cb_prints[3])\n",
    "        #user_inputs.append(input_integer_select(100))\n",
    "        #number_trucks = user_inputs[3]\n",
    "    else:\n",
    "        truck_dummy = 'no'\n",
    "        #number_trucks = 0\n",
    "    \n",
    "    user_information = {'User Name':name,\n",
    "                       'Company Name': company,\n",
    "                       'Trucks Owned': truck_dummy}\n",
    "                       #'Number of Trucks': number_trucks}\n",
    "    \n",
    "    return([user_information,cb_prints,user_inputs] )\n",
    " "
   ]
  },
  {
   "cell_type": "markdown",
   "metadata": {},
   "source": [
    "# Truck Name Getter"
   ]
  },
  {
   "cell_type": "code",
   "execution_count": 18,
   "metadata": {},
   "outputs": [],
   "source": [
    "def TruckNameBot():\n",
    "\n",
    "    user_inputs = list()\n",
    "    cb_prints = list()\n",
    "\n",
    "    cb_prints.append(os.linesep + 'What brands are they?')  \n",
    "    print(cb_prints[0])\n",
    "    user_inputs.append(input())\n",
    "    user_trucks = input_char_list(user_inputs[len(user_inputs)-1])\n",
    "    #user_trucks = user_inputs[0].replace(',',' ')\n",
    "    #user_trucks = user_trucks.replace(' and ',' ').split()\n",
    "    # Check the user input for trucks\n",
    "\n",
    "    recommendations = [[t] + truck_recommender(t) for t in user_trucks \n",
    "                       if truck_recommender(t)[1] == 'recommendation']\n",
    "    exact_matchs = [[t] + truck_recommender(t) for t in user_trucks \n",
    "                       if truck_recommender(t)[1] == 'exact_match']\n",
    "    not_founds = [[t] + truck_recommender(t) for t in user_trucks \n",
    "                       if truck_recommender(t)[1] == 'not_found']\n",
    "\n",
    "\n",
    "\n",
    "    to_replace = []\n",
    "    replace_with = []\n",
    "\n",
    "    brand_replacements = []\n",
    "    if len(recommendations)>0:\n",
    "        for recomm in recommendations:\n",
    "            output = did_you_mean_that(recomm[0],recomm[1])\n",
    "            cb_prints = cb_prints + output[2]\n",
    "            user_inputs = user_inputs + output[3]\n",
    "            \n",
    "            if output[1] is None:\n",
    "                # Replace user's input with the recommendation\n",
    "                replacement = [recomm[0],output[0]]\n",
    "\n",
    "                to_replace.append(recomm[0])\n",
    "                replace_with.append(output[0])\n",
    "\n",
    "                brand_replacements.append(replacement)\n",
    "            else:\n",
    "                cb_prints.append(os.linesep + 'I am checking your input again ...')\n",
    "                print(cb_prints[len(cb_prints)-1])\n",
    "                new_recomm = truck_recommender(output[0])\n",
    "\n",
    "                if new_recomm[1] == 'not_found':\n",
    "                    replacement = [recomm[0],new_recomm[0]]\n",
    "                    to_replace.append(recomm[0])\n",
    "                    replace_with.append(new_recomm[0])\n",
    "\n",
    "                    brand_replacements.append(replacement)\n",
    "                    cb_prints.append(os.linesep + 'I couldn\\'t find the brand name,' + \n",
    "                          'but I will record your suggestion.')\n",
    "                    print(cb_prints[len(cb_prints)-1])\n",
    "                else:\n",
    "                    replacement = [recomm[0],new_recomm[0]]\n",
    "                    brand_replacements.append(replacement)\n",
    "                    to_replace.append(recomm[0])\n",
    "                    replace_with.append(new_recomm[0])\n",
    "\n",
    "                    cb_prints.append(os.linesep + 'Oh, you meant ' +new_recomm[0]+\n",
    "                          '. Okay.')\n",
    "                    print(cb_prints[len(cb_prints)-1])\n",
    "\n",
    "    if len(not_founds)>0:\n",
    "        for nf in not_founds:\n",
    "            replacement = [nf[0],nf[1]]\n",
    "            to_replace.append(nf[0])\n",
    "            replace_with.append(nf[1])\n",
    "            brand_replacements.append(replacement)\n",
    "            cb_prints.append(os.linesep + 'I couldn\\'t find the brand name,' + \n",
    "                  'but I will record your suggestion.')\n",
    "            print(cb_prints[len(cb_prints)-1])\n",
    "\n",
    "\n",
    "           \n",
    "\n",
    "\n",
    "    final_trucks = []\n",
    "\n",
    "    for tr in user_trucks:\n",
    "        if tr in to_replace:\n",
    "            final_trucks.append(replace_with[to_replace.index(tr)])\n",
    "\n",
    "        else:\n",
    "            final_trucks.append(tr)\n",
    "            \n",
    "    return([final_trucks,user_trucks,cb_prints,user_inputs ])\n",
    "   "
   ]
  },
  {
   "cell_type": "code",
   "execution_count": null,
   "metadata": {},
   "outputs": [],
   "source": []
  },
  {
   "cell_type": "markdown",
   "metadata": {},
   "source": [
    "# Specification Getter Bot"
   ]
  },
  {
   "cell_type": "code",
   "execution_count": 38,
   "metadata": {},
   "outputs": [],
   "source": [
    "def collect_models(truck):\n",
    "\n",
    "    user_inputs = list()\n",
    "    cb_prints = list()\n",
    "\n",
    "    cb_prints.append(os.linesep + 'How many {0} trucks do you have? '.format(truck))  \n",
    "    print(cb_prints[len(cb_prints)-1])\n",
    "    user_inputs.append(input_integer_select())\n",
    "    number_models_truck = user_inputs[len(user_inputs)-1]\n",
    "\n",
    "\n",
    "    cb_prints.append(os.linesep + 'Which models are they ? ')  \n",
    "    print(cb_prints[len(cb_prints)-1])\n",
    "    user_inputs.append(input())\n",
    "    \n",
    "    model_list=input_char_list(user_inputs[len(user_inputs)-1])\n",
    "\n",
    "    #model_list = user_inputs[len(user_inputs)-1].replace(',',' ')\n",
    "    #model_list = model_list.replace(' and ',' ').split()\n",
    "\n",
    "    flag = True\n",
    "    while flag:\n",
    "\n",
    "        count_list = []\n",
    "        for model in model_list:\n",
    "            if len(model_list) == 1:\n",
    "                count = 1\n",
    "                count_list.append(int(count))\n",
    "                continue\n",
    "            cb_prints.append(os.linesep + 'How many {0} do you have? '.format(model))  \n",
    "            print(cb_prints[len(cb_prints)-1])\n",
    "            user_inputs.append(input_integer_select())\n",
    "            count = user_inputs[len(user_inputs)-1]\n",
    "            count_list.append(int(count))\n",
    "\n",
    "        if sum(list(map(int,count_list))) != int(number_models_truck):\n",
    "            cb_prints.append(os.linesep + 'The number of trucks do not' \n",
    "                             + 'match for {0}, try again!'.format(truck) + os.linesep)  \n",
    "            print(cb_prints[len(cb_prints)-1])\n",
    "        else:\n",
    "            flag = False\n",
    "\n",
    "    return([list(zip(model_list, count_list)),cb_prints, user_inputs])\n",
    "\n",
    "\n",
    "\n",
    "\n",
    "def specs_collect(model,truck_number):\n",
    "    user_inputs = list()\n",
    "    cb_prints = list()\n",
    "\n",
    "    flag=True\n",
    "    while flag:\n",
    "\n",
    "        specifications = []\n",
    "        tn = 0\n",
    "        actual_truck_number = truck_number\n",
    "        while tn < truck_number:\n",
    "\n",
    "            cb_prints.append('------------------------------'+ os.linesep + 'You have '\n",
    "                             +'{0} unidentified trucks for {1}. '.format(actual_truck_number,model) +\n",
    "                             'Please write the engine size of truck #{0} in liters.'.format(tn+1))  \n",
    "            print(cb_prints[len(cb_prints)-1])\n",
    "            user_inputs.append(input_integer_select(5000))\n",
    "            engine_size = int(user_inputs[len(user_inputs)-1])\n",
    "\n",
    "\n",
    "            cb_prints.append(os.linesep + \n",
    "                             'How many axles do you have for truck #{0}? '.format(tn+1))  \n",
    "            print(cb_prints[len(cb_prints)-1])\n",
    "            user_inputs.append(input_integer_select(20))\n",
    "            axle_number = int(user_inputs[len(user_inputs)-1])\n",
    "\n",
    "\n",
    "\n",
    "            cb_prints.append(os.linesep + \n",
    "                             'How much tonnes does truck #{0} weight? '.format(tn+1))  \n",
    "            print(cb_prints[len(cb_prints)-1])\n",
    "            user_inputs.append(input_float_select(100))\n",
    "            weights = float(user_inputs[len(user_inputs)-1])\n",
    "\n",
    "            cb_prints.append(os.linesep + \n",
    "                             'What is the maximum load in tonnes that truck #{0} can carry? '.format(tn+1))  \n",
    "            print(cb_prints[len(cb_prints)-1])\n",
    "            user_inputs.append(input_integer_select(100))\n",
    "            max_load = int(user_inputs[len(user_inputs)-1])\n",
    "\n",
    "            cb_prints.append(os.linesep +\n",
    "                             'How many {0} with the same specification as truck #{1} do you have? '.format(model,tn+1)\n",
    "                            +os.linesep + os.linesep)  \n",
    "            print(cb_prints[len(cb_prints)-1])\n",
    "            user_inputs.append(input_integer_select(100))\n",
    "            similar_number_trucks = int(user_inputs[len(user_inputs)-1])\n",
    "\n",
    "\n",
    "            specifications.append([similar_number_trucks,engine_size,axle_number,weights,max_load])\n",
    "            tn = tn + similar_number_trucks\n",
    "            actual_truck_number = actual_truck_number - similar_number_trucks\n",
    "\n",
    "        if tn == truck_number:\n",
    "            cb_prints.append(os.linesep + \n",
    "                             'All trucks for model {0} are recorded with success! '.format(model)+\n",
    "                            os.linesep + '------------------------------' +os.linesep )  \n",
    "            print(cb_prints[len(cb_prints)-1])\n",
    "            flag=False\n",
    "        else:\n",
    "            cb_prints.append(os.linesep + '!!!!!!!!!!!!!!!'+os.linesep +\n",
    "                             'The numbers do not match. Please enter specifications again: '.format(model)+\n",
    "                            os.linesep + '!!!!!!!!!!!!!!!'+os.linesep)  \n",
    "            print(cb_prints[len(cb_prints)-1])\n",
    "\n",
    "    return([model,specifications,cb_prints,user_inputs])\n",
    "\n",
    "\n",
    "def SpecsBot(brands):\n",
    "    results = []\n",
    "    for b in brands:\n",
    "        models_for_brand = collect_models(b)\n",
    "\n",
    "        list_models = models_for_brand[0]\n",
    "        for m in list_models:\n",
    "            specs = specs_collect(m[0],m[1] )\n",
    "            results.append([b,specs])\n",
    "    return(results)\n",
    "\n",
    "\n"
   ]
  },
  {
   "cell_type": "code",
   "execution_count": null,
   "metadata": {},
   "outputs": [],
   "source": []
  },
  {
   "cell_type": "code",
   "execution_count": null,
   "metadata": {},
   "outputs": [],
   "source": []
  },
  {
   "cell_type": "code",
   "execution_count": null,
   "metadata": {},
   "outputs": [],
   "source": []
  },
  {
   "cell_type": "code",
   "execution_count": 39,
   "metadata": {},
   "outputs": [],
   "source": []
  },
  {
   "cell_type": "markdown",
   "metadata": {},
   "source": [
    "# ALL PARTS TOGETHER\n",
    "\n",
    "\n",
    "no *truck problem\n",
    "float input issue"
   ]
  },
  {
   "cell_type": "code",
   "execution_count": 166,
   "metadata": {
    "scrolled": true
   },
   "outputs": [],
   "source": [
    "\n",
    "def ChatForTrucks():\n",
    "    print(\"\"\"\n",
    "\n",
    "        Welcome to the Tracks GmbH Truck Identification System\n",
    "\n",
    "        This is your personal assistant\n",
    "        In case you want to exit and save the progress, type exit\n",
    "\n",
    "        \"\"\")\n",
    "\n",
    "    user_info_list = GreetingsBot()\n",
    "    if user_info_list[0]['Trucks Owned'] == 'yes':\n",
    "        truck_brands_list = TruckNameBot()\n",
    "        truck_summaries = SpecsBot(truck_brands_list[0])\n",
    "    else:\n",
    "        print(os.linesep + \"Good Bye! Drive safe and efficient...\")\n",
    "    print(os.linesep + 'User information, truck summaries, and dialogs are saved.')\n",
    "\n",
    "    with open('user_information.txt', 'w') as fo:\n",
    "        print(';'.join(['user_name', user_info_list[0]['User Name']]), file=fo)\n",
    "        print(';'.join(['company', user_info_list[0]['Company Name']]), file=fo)  \n",
    "        print(';'.join(  ['trucks_owned', user_info_list[0]['Trucks Owned']]   ), file=fo)\n",
    "\n",
    "\n",
    "    with open('truck_summaries.txt', 'w') as fo:\n",
    "        print(';'.join(['brand','model','count','engine_size','axles','weight','max_load']), file=fo)\n",
    "        for i in range(len(truck_summaries)):\n",
    "            specs = list(map(str, truck_summaries[i][1][1][0]))\n",
    "            print( ';'.join([truck_summaries[i][0],truck_summaries[i][1][0]] + specs), file=fo)\n",
    "\n",
    "\n",
    "    with open('chatlog.txt', 'w') as fo:\n",
    "        for i in range(len(user_info_list)):\n",
    "            print('Chatbot: ' + user_info_list[1][i].replace('\\n',''), file=fo)\n",
    "            print('User: ' + user_info_list[2][i].replace('\\n',''), file=fo)\n",
    "        for i in range(len( truck_brands_list[2])):\n",
    "            print('Chatbot: ' + truck_brands_list[2][i].replace('\\n',''),file=fo)\n",
    "            print('User: ' + truck_brands_list[3][i].replace('\\n',''),file=fo)\n",
    "\n",
    "        for i in range(len(truck_summaries )):\n",
    "            print('\\n ---- \\n',file=fo)\n",
    "\n",
    "\n",
    "            for k in range(len(truck_summaries[i][1][2])):\n",
    "\n",
    "                print('Chatbot: ' + truck_summaries[i][1][2][k].replace('\\n',''),file=fo)\n",
    "                try:\n",
    "                    print('User: ' + str(truck_summaries[i][1][3][k]).replace('\\n',''),file=fo)\n",
    "                except:\n",
    "                    print(' ',file=fo)"
   ]
  },
  {
   "cell_type": "markdown",
   "metadata": {},
   "source": [
    "# Print the summaries"
   ]
  },
  {
   "cell_type": "code",
   "execution_count": 151,
   "metadata": {},
   "outputs": [
    {
     "name": "stdout",
     "output_type": "stream",
     "text": [
      "{'User Name': 'Batuhan Ipekci', 'Company Name': 'Tracks GmbH', 'Trucks Owned': 'yes'}\n"
     ]
    }
   ],
   "source": [
    "user_info_list[0]\n",
    "print(user_info_list[0])"
   ]
  },
  {
   "cell_type": "code",
   "execution_count": 161,
   "metadata": {},
   "outputs": [],
   "source": [
    "with open('user_information.txt', 'w') as fo:\n",
    "    print(';'.join(['user_name', user_info_list[0]['User Name']]), file=fo)\n",
    "    print(';'.join(['company', user_info_list[0]['Company Name']]), file=fo)  \n",
    "    print(';'.join(  ['trucks_owned', user_info_list[0]['Trucks Owned']]   ), file=fo)"
   ]
  },
  {
   "cell_type": "code",
   "execution_count": 164,
   "metadata": {},
   "outputs": [],
   "source": [
    "with open('truck_summaries.txt', 'w') as fo:\n",
    "\n",
    "\n",
    "    print(';'.join(['brand','model','count','engine_size','axles','weight','max_load']), file=fo)\n",
    "    for i in range(len(truck_summaries)):\n",
    "        specs = list(map(str, truck_summaries[i][1][1][0]))\n",
    "        print( ';'.join([truck_summaries[i][0],truck_summaries[i][1][0]] + specs), file=fo)"
   ]
  },
  {
   "cell_type": "markdown",
   "metadata": {},
   "source": [
    "# Print the whole dialog"
   ]
  },
  {
   "cell_type": "code",
   "execution_count": 165,
   "metadata": {},
   "outputs": [],
   "source": [
    "with open('chatlog.txt', 'w') as fo:\n",
    "    for i in range(len(user_info_list)):\n",
    "        print('Chatbot: ' + user_info_list[1][i].replace('\\n',''), file=fo)\n",
    "        print('User: ' + user_info_list[2][i].replace('\\n',''), file=fo)\n",
    "    for i in range(len( truck_brands_list[2])):\n",
    "        print('Chatbot: ' + truck_brands_list[2][i].replace('\\n',''),file=fo)\n",
    "        print('User: ' + truck_brands_list[3][i].replace('\\n',''),file=fo)\n",
    "        \n",
    "        \n",
    "        \n",
    "    for i in range(len(truck_summaries )):\n",
    "        print('\\n ---- \\n',file=fo)\n",
    "\n",
    "\n",
    "        for k in range(len(truck_summaries[i][1][2])):\n",
    "\n",
    "            print('Chatbot: ' + truck_summaries[i][1][2][k].replace('\\n',''),file=fo)\n",
    "            try:\n",
    "                print('User: ' + str(truck_summaries[i][1][3][k]).replace('\\n',''),file=fo)\n",
    "            except:\n",
    "                print(' ',file=fo)"
   ]
  },
  {
   "cell_type": "code",
   "execution_count": null,
   "metadata": {},
   "outputs": [],
   "source": []
  },
  {
   "cell_type": "code",
   "execution_count": null,
   "metadata": {},
   "outputs": [],
   "source": []
  },
  {
   "cell_type": "code",
   "execution_count": null,
   "metadata": {},
   "outputs": [],
   "source": []
  },
  {
   "cell_type": "code",
   "execution_count": 115,
   "metadata": {},
   "outputs": [
    {
     "name": "stdout",
     "output_type": "stream",
     "text": [
      "Chatbot: Hi there, what is your name?\n",
      "User: Batuhan Ipekci\n",
      "Chatbot: Hi Batuhan Ipekci, what is the name of your company?\n",
      "User: Tracks GmbH\n",
      "Chatbot: Do you own trucks at Tracks GmbH ?\n",
      "User: yes\n"
     ]
    }
   ],
   "source": [
    "\n",
    "for i in range(len(user_info_list)):\n",
    "    print('Chatbot: ' + user_info_list[1][i].replace('\\n',''))\n",
    "    print('User: ' + user_info_list[2][i].replace('\\n',''))"
   ]
  },
  {
   "cell_type": "code",
   "execution_count": 117,
   "metadata": {},
   "outputs": [
    {
     "name": "stdout",
     "output_type": "stream",
     "text": [
      "Chatbot: What brands are they?\n",
      "User: BharatBenz, DAF Trucks, and undai\n",
      "Chatbot: Did you mean Hyundai by saying and undai ?\n",
      "User: yes\n"
     ]
    }
   ],
   "source": [
    "for i in range(len( truck_brands_list[2])):\n",
    "    print('Chatbot: ' + truck_brands_list[2][i].replace('\\n',''))\n",
    "    print('User: ' + truck_brands_list[3][i].replace('\\n',''))"
   ]
  },
  {
   "cell_type": "code",
   "execution_count": 109,
   "metadata": {},
   "outputs": [
    {
     "name": "stdout",
     "output_type": "stream",
     "text": [
      "\n",
      " ---- \n",
      "\n",
      "Chatbot: ------------------------------You have 1 unidentified trucks for BharatBenz 3723. Please write the engine size of truck #1 in liters.\n",
      "User: 5\n",
      "Chatbot: How many axles do you have for truck #1? \n",
      "User: 4\n",
      "Chatbot: How much tonnes does truck #1 weight? \n",
      "User: 40.0\n",
      "Chatbot: What is the maximum load in tonnes that truck #1 can carry? \n",
      "User: 10\n",
      "Chatbot: How many BharatBenz 3723 with the same specification as truck #1 do you have? \n",
      "User: 1\n",
      "Chatbot: All trucks for model BharatBenz 3723 are recorded with success! ------------------------------\n",
      " \n",
      "\n",
      " ---- \n",
      "\n",
      "Chatbot: ------------------------------You have 1 unidentified trucks for DAF XF. Please write the engine size of truck #1 in liters.\n",
      "User: 7\n",
      "Chatbot: How many axles do you have for truck #1? \n",
      "User: 6\n",
      "Chatbot: How much tonnes does truck #1 weight? \n",
      "User: 26.5\n",
      "Chatbot: What is the maximum load in tonnes that truck #1 can carry? \n",
      "User: 56\n",
      "Chatbot: How many DAF XF with the same specification as truck #1 do you have? \n",
      "User: 1\n",
      "Chatbot: All trucks for model DAF XF are recorded with success! ------------------------------\n",
      " \n",
      "\n",
      " ---- \n",
      "\n",
      "Chatbot: ------------------------------You have 1 unidentified trucks for DAF CF. Please write the engine size of truck #1 in liters.\n",
      "User: 10\n",
      "Chatbot: How many axles do you have for truck #1? \n",
      "User: 3\n",
      "Chatbot: How much tonnes does truck #1 weight? \n",
      "User: 34.0\n",
      "Chatbot: What is the maximum load in tonnes that truck #1 can carry? \n",
      "User: 12\n",
      "Chatbot: How many DAF CF with the same specification as truck #1 do you have? \n",
      "User: 1\n",
      "Chatbot: All trucks for model DAF CF are recorded with success! ------------------------------\n",
      " \n",
      "\n",
      " ---- \n",
      "\n",
      "Chatbot: ------------------------------You have 3 unidentified trucks for Hyundai Mighty. Please write the engine size of truck #1 in liters.\n",
      "User: 5\n",
      "Chatbot: How many axles do you have for truck #1? \n",
      "User: 4\n",
      "Chatbot: How much tonnes does truck #1 weight? \n",
      "User: 20.0\n",
      "Chatbot: What is the maximum load in tonnes that truck #1 can carry? \n",
      "User: 6\n",
      "Chatbot: How many Hyundai Mighty with the same specification as truck #1 do you have? \n",
      "User: 3\n",
      "Chatbot: All trucks for model Hyundai Mighty are recorded with success! ------------------------------\n",
      " \n",
      "\n",
      " ---- \n",
      "\n",
      "Chatbot: ------------------------------You have 1 unidentified trucks for Hyundai H350. Please write the engine size of truck #1 in liters.\n",
      "User: 5\n",
      "Chatbot: How many axles do you have for truck #1? \n",
      "User: 2\n",
      "Chatbot: How much tonnes does truck #1 weight? \n",
      "User: 34.0\n",
      "Chatbot: What is the maximum load in tonnes that truck #1 can carry? \n",
      "User: 12\n",
      "Chatbot: How many Hyundai H350 with the same specification as truck #1 do you have? \n",
      "User: 1\n",
      "Chatbot: All trucks for model Hyundai H350 are recorded with success! ------------------------------\n",
      " \n"
     ]
    }
   ],
   "source": [
    "for i in range(len(truck_summaries )):\n",
    "    print('\\n ---- \\n')\n",
    "\n",
    "\n",
    "    for k in range(len(truck_summaries[i][1][2])):\n",
    "\n",
    "        print('Chatbot: ' + truck_summaries[i][1][2][k].replace('\\n',''))\n",
    "        try:\n",
    "            print('User: ' + str(truck_summaries[i][1][3][k]).replace('\\n',''))\n",
    "        except:\n",
    "            print(' ')"
   ]
  },
  {
   "cell_type": "code",
   "execution_count": null,
   "metadata": {},
   "outputs": [],
   "source": []
  }
 ],
 "metadata": {
  "kernelspec": {
   "display_name": "Python [conda env:interview]",
   "language": "python",
   "name": "conda-env-interview-py"
  },
  "language_info": {
   "codemirror_mode": {
    "name": "ipython",
    "version": 3
   },
   "file_extension": ".py",
   "mimetype": "text/x-python",
   "name": "python",
   "nbconvert_exporter": "python",
   "pygments_lexer": "ipython3",
   "version": "3.6.10"
  }
 },
 "nbformat": 4,
 "nbformat_minor": 2
}
